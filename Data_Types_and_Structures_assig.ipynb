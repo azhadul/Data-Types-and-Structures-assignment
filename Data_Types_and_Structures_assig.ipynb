{
  "nbformat": 4,
  "nbformat_minor": 0,
  "metadata": {
    "colab": {
      "provenance": []
    },
    "kernelspec": {
      "name": "python3",
      "display_name": "Python 3"
    },
    "language_info": {
      "name": "python"
    }
  },
  "cells": [
    {
      "cell_type": "markdown",
      "source": [
        "\n",
        "\n",
        "**Data Types and Structures Questions**\n"
      ],
      "metadata": {
        "id": "dtTcKHOmCST6"
      }
    },
    {
      "cell_type": "markdown",
      "source": [
        "1. What are data structures, and why are they important?\n",
        "- Data structure are the way of organizing and storing data for efficent access and modification\n",
        "they are essential because they enable efficent alogrithms, better memoray usage, and faster performance like simply data manupulation like adding, removing, modifiying elements etc\n"
      ],
      "metadata": {
        "id": "CaO1S3B_ymF4"
      }
    },
    {
      "cell_type": "markdown",
      "source": [
        "2. Explain the difference between mutable and immutable data types with examples .\n",
        "- Mutable data types are basically the data which are changable for example list is a type of mutable data\n",
        "\n",
        "   Immutable the data can't be changed for example tuple is an example of immutable data types\n",
        "\n",
        "\n",
        "\n"
      ],
      "metadata": {
        "id": "YgGZGEXaxuHH"
      }
    },
    {
      "cell_type": "markdown",
      "source": [
        "3.What are the main differences between lists and tuples in Python ?\n",
        "-  The differences between list and tuples are list is Mutable means inside this we can changed data\n",
        "\n",
        "  In the case of tuples is Immutable the data inside this can't modified like Aadhar Number, Pan no. these are fixed/constant data put insude tuples\n"
      ],
      "metadata": {
        "id": "pnQQ71DqxuiO"
      }
    },
    {
      "cell_type": "markdown",
      "source": [
        "4. Describe how dictionaries store data .\n",
        "- Dictionaries store data as key-value pairs using a hash table internally. Each key is hashed to find the corresponding value quickly.\n"
      ],
      "metadata": {
        "id": "Q_Pa_wb00N1O"
      }
    },
    {
      "cell_type": "markdown",
      "source": [
        "5. Why might you use a set instead of a list in Python?\n",
        "- Sets use instead of list because its eliminate duplicates, are also useful for checking membership, unorder collection of unique elements."
      ],
      "metadata": {
        "id": "q9RSRsxG0jhG"
      }
    },
    {
      "cell_type": "markdown",
      "source": [
        "6.What is a string in Python, and how is it different from a list?\n",
        "-  A string is an immutable sequence of characters.\n",
        "\n",
        "   A list is a mutable sequence of elements can be of any type."
      ],
      "metadata": {
        "id": "QAxqCLfl3Rkr"
      }
    },
    {
      "cell_type": "markdown",
      "source": [
        "7. How do tuples ensure data integrity in Python ?\n",
        "-  Tuples are immutable, so once created their content can't be changed. This makes them ideal for storing fixed, reliable data."
      ],
      "metadata": {
        "id": "IPX-dJdm33fy"
      }
    },
    {
      "cell_type": "markdown",
      "source": [
        "8. What is a hash table, and how does it relate to dictionaries in python?\n",
        "-  A hash table is a data structure that maps keys to values using a hash function. Python's dictionary uses a hash table internally for fast key based access."
      ],
      "metadata": {
        "id": "9knboHIU4K5a"
      }
    },
    {
      "cell_type": "markdown",
      "source": [
        "9.Can lists contain different data types in Python?\n",
        "-  Yes python list contain mixed data types"
      ],
      "metadata": {
        "id": "C9AIuBp84Vwa"
      }
    },
    {
      "cell_type": "markdown",
      "source": [
        "10.Explain why strings are immutable in Python .\n",
        "-   immutability makes strings usable as dictionary keys its improved security and reliability and memory efficieny."
      ],
      "metadata": {
        "id": "Vz_ms4Om4ngi"
      }
    },
    {
      "cell_type": "markdown",
      "source": [
        "11. What advantages do dictionaries offer over lists for certain tasks ?\n",
        "-   Advantages of dictionaries over list its shows clear maping between values ,  ideal for structured , labeled data."
      ],
      "metadata": {
        "id": "9YFOv6Ed5iTL"
      }
    },
    {
      "cell_type": "markdown",
      "source": [
        "12. Describe a scenario where using a tuple would be preferable over a list.\n",
        "-   when need read only data and data should be hashable and also for function return values"
      ],
      "metadata": {
        "id": "_AylVPdQ6F3S"
      }
    },
    {
      "cell_type": "markdown",
      "source": [
        "13. How do sets handle duplicate values in Python?\n",
        "-   In Python a set is a collection of unique, unordered elements.\n",
        "  \n",
        "   sets automatically eliminate duplicates  you don't have to do anything extra."
      ],
      "metadata": {
        "id": "kuUdiaF6B066"
      }
    },
    {
      "cell_type": "markdown",
      "source": [
        "14. How does the “in” keyword work differently for lists and dictionaries?\n",
        "-   in work for list as value and for dictionaries it is work as key"
      ],
      "metadata": {
        "id": "9q2EmTOc6kha"
      }
    },
    {
      "cell_type": "markdown",
      "source": [
        "15.Can you modify the elements of a tuple? Explain why or why not.\n",
        "- No Tuples are immutable, so elements cannot be changed, added, or removed after creation.\n",
        "\n"
      ],
      "metadata": {
        "id": "LPAKmV1M7B6C"
      }
    },
    {
      "cell_type": "markdown",
      "source": [
        "16. What is a nested dictionary, and give an example of its use case\n",
        "-  A nested dictionary is a dictionary inside another dictionary."
      ],
      "metadata": {
        "id": "7BWZWOPP8wlq"
      }
    },
    {
      "cell_type": "code",
      "source": [
        "student = {\"name\": \"Azhadul\", \"grades\":{\"maths\": 90, \"science\":85}}"
      ],
      "metadata": {
        "id": "ge0UOh3Q9qXb"
      },
      "execution_count": 5,
      "outputs": []
    },
    {
      "cell_type": "markdown",
      "source": [
        "17. Describe the time complexity of accessing elements in a dictionary.\n",
        "-   In Python, dictionaries are implemented using hash tables, which allow for average-case constant time complexity for key access."
      ],
      "metadata": {
        "id": "A98vjITQ-cFy"
      }
    },
    {
      "cell_type": "markdown",
      "source": [
        "18. In what situations are lists preferred over dictionaries?\n",
        "-   list preferred over dictionaries when order matter, when data has no lables, also for iterating over values sequentially"
      ],
      "metadata": {
        "id": "LrX3-6kw_hPS"
      }
    },
    {
      "cell_type": "markdown",
      "source": [
        "19.Why are dictionaries considered unordered, and how does that affect data retrieval ?\n",
        "- Dictionaries don't use order for retrieval they use keys and hash functions."
      ],
      "metadata": {
        "id": "DRzacsQQAPVq"
      }
    },
    {
      "cell_type": "markdown",
      "source": [
        "20.Explain the difference between a list and a dictionary in terms of data retrieval.\n",
        "- the difference between a list and a dictionary in terms of data retrieval list is indexed access where dictionary is key based access , list slowe for lookups where it is faster for known keys"
      ],
      "metadata": {
        "id": "bboXzH-lA3cB"
      }
    },
    {
      "cell_type": "markdown",
      "source": [
        "\n",
        "\n",
        "**Practical Questions**"
      ],
      "metadata": {
        "id": "7QPXJFBaCfjC"
      }
    },
    {
      "cell_type": "markdown",
      "source": [
        "1. Write a code to create a string with your name and print it."
      ],
      "metadata": {
        "id": "ETdaac3oClaa"
      }
    },
    {
      "cell_type": "code",
      "source": [
        "name = \"Azhadul Mumin\"\n",
        "print(name)"
      ],
      "metadata": {
        "colab": {
          "base_uri": "https://localhost:8080/"
        },
        "id": "nPM2cQU0DAsy",
        "outputId": "07d3c438-d955-449a-f273-636925248a8b"
      },
      "execution_count": 6,
      "outputs": [
        {
          "output_type": "stream",
          "name": "stdout",
          "text": [
            "Azhadul Mumin\n"
          ]
        }
      ]
    },
    {
      "cell_type": "markdown",
      "source": [
        "2.  Write a code to find the length of the string \"Hello World\".\n"
      ],
      "metadata": {
        "id": "949BKdLsDEEy"
      }
    },
    {
      "cell_type": "code",
      "source": [
        "print(len(\"Hello world\"))\n"
      ],
      "metadata": {
        "colab": {
          "base_uri": "https://localhost:8080/"
        },
        "id": "NsFsDHlJLmoc",
        "outputId": "b0ce270d-9e6f-4130-e40d-7479850862c1"
      },
      "execution_count": 9,
      "outputs": [
        {
          "output_type": "stream",
          "name": "stdout",
          "text": [
            "11\n"
          ]
        }
      ]
    },
    {
      "cell_type": "markdown",
      "source": [
        "3. Write a code to slice the first 3 characters from the string \"Python Programming\""
      ],
      "metadata": {
        "id": "Q8eAhpuZL_88"
      }
    },
    {
      "cell_type": "code",
      "source": [
        "a = \"python programing\"\n",
        "a[:3]"
      ],
      "metadata": {
        "colab": {
          "base_uri": "https://localhost:8080/",
          "height": 36
        },
        "id": "HgGPaTW8MS8c",
        "outputId": "1ed07c35-408d-41d6-91d8-3b4f779b4723"
      },
      "execution_count": 13,
      "outputs": [
        {
          "output_type": "execute_result",
          "data": {
            "text/plain": [
              "'pyt'"
            ],
            "application/vnd.google.colaboratory.intrinsic+json": {
              "type": "string"
            }
          },
          "metadata": {},
          "execution_count": 13
        }
      ]
    },
    {
      "cell_type": "markdown",
      "source": [
        " 4.Write a code to convert the string \"hello\" to uppercase"
      ],
      "metadata": {
        "id": "eyAWyBdRMouc"
      }
    },
    {
      "cell_type": "code",
      "source": [
        "name4 = \"hello\"\n",
        "name4.upper()"
      ],
      "metadata": {
        "colab": {
          "base_uri": "https://localhost:8080/",
          "height": 36
        },
        "id": "265gsIkIMvyE",
        "outputId": "ddf8e365-ab57-4e32-9fa5-40fd2b003c8c"
      },
      "execution_count": 14,
      "outputs": [
        {
          "output_type": "execute_result",
          "data": {
            "text/plain": [
              "'HELLO'"
            ],
            "application/vnd.google.colaboratory.intrinsic+json": {
              "type": "string"
            }
          },
          "metadata": {},
          "execution_count": 14
        }
      ]
    },
    {
      "cell_type": "markdown",
      "source": [
        "5. Write a code to replace the word \"apple\" with \"orange\" in the string \"I like apple"
      ],
      "metadata": {
        "id": "-BjGX77NNT0t"
      }
    },
    {
      "cell_type": "code",
      "source": [
        "fruits =\"I like apple\"\n",
        "fruits.replace(\"apple\",\"orange\")"
      ],
      "metadata": {
        "colab": {
          "base_uri": "https://localhost:8080/",
          "height": 36
        },
        "id": "k5v8YLbyNWzT",
        "outputId": "960240f1-e941-4e17-9138-7aad23cbc837"
      },
      "execution_count": 15,
      "outputs": [
        {
          "output_type": "execute_result",
          "data": {
            "text/plain": [
              "'I like orange'"
            ],
            "application/vnd.google.colaboratory.intrinsic+json": {
              "type": "string"
            }
          },
          "metadata": {},
          "execution_count": 15
        }
      ]
    },
    {
      "cell_type": "markdown",
      "source": [
        "6. Write a code to create a list with numbers 1 to 5 and print it"
      ],
      "metadata": {
        "id": "kdzjedzMRZZc"
      }
    },
    {
      "cell_type": "code",
      "source": [
        "numbers = [1, 2, 3, 4, 5]\n",
        "print(numbers)"
      ],
      "metadata": {
        "colab": {
          "base_uri": "https://localhost:8080/"
        },
        "id": "Pwdct8NVRR5r",
        "outputId": "287b6403-195c-475e-ac73-eb20d0a451aa"
      },
      "execution_count": 16,
      "outputs": [
        {
          "output_type": "stream",
          "name": "stdout",
          "text": [
            "[1, 2, 3, 4, 5]\n"
          ]
        }
      ]
    },
    {
      "cell_type": "markdown",
      "source": [
        "7.Write a code to append the number 10 to the list [1, 2, 3, 4]"
      ],
      "metadata": {
        "id": "8RGeaZlHSwcz"
      }
    },
    {
      "cell_type": "code",
      "source": [
        "my_list = [1, 2, 3, 4]\n",
        "my_list.append(10)\n",
        "print(my_list)"
      ],
      "metadata": {
        "colab": {
          "base_uri": "https://localhost:8080/"
        },
        "id": "VnaI4uwySuVz",
        "outputId": "722728d5-2b07-4184-e90b-3ae2568b69cc"
      },
      "execution_count": 18,
      "outputs": [
        {
          "output_type": "stream",
          "name": "stdout",
          "text": [
            "[1, 2, 3, 4, 10]\n"
          ]
        }
      ]
    },
    {
      "cell_type": "markdown",
      "source": [
        "8. Write a code to remove the number 3 from the list [1, 2, 3, 4, 5]"
      ],
      "metadata": {
        "id": "dIPoJGu5TYur"
      }
    },
    {
      "cell_type": "code",
      "source": [
        "my_list8 = [1, 2, 3, 4, 5]\n",
        "my_list8.remove(3)\n",
        "print(my_list8)"
      ],
      "metadata": {
        "colab": {
          "base_uri": "https://localhost:8080/"
        },
        "id": "e9cnS6TmTKhy",
        "outputId": "3ed0e776-e536-4d24-c0f2-79832cd04dd8"
      },
      "execution_count": 19,
      "outputs": [
        {
          "output_type": "stream",
          "name": "stdout",
          "text": [
            "[1, 2, 4, 5]\n"
          ]
        }
      ]
    },
    {
      "cell_type": "markdown",
      "source": [
        "9. Write a code to access the second element in the list ['a', 'b', 'c', 'd']"
      ],
      "metadata": {
        "id": "drI1-aiCTzIr"
      }
    },
    {
      "cell_type": "code",
      "source": [
        "list9 = [\"a\", \"b\", \"c\", \"d\"]\n",
        "list9[1]"
      ],
      "metadata": {
        "colab": {
          "base_uri": "https://localhost:8080/",
          "height": 36
        },
        "id": "2WYkjJC6T3q7",
        "outputId": "1151d418-ed92-4688-f0e5-5a07b1c79a6a"
      },
      "execution_count": 20,
      "outputs": [
        {
          "output_type": "execute_result",
          "data": {
            "text/plain": [
              "'b'"
            ],
            "application/vnd.google.colaboratory.intrinsic+json": {
              "type": "string"
            }
          },
          "metadata": {},
          "execution_count": 20
        }
      ]
    },
    {
      "cell_type": "markdown",
      "source": [
        "10.  Write a code to reverse the list [10, 20, 30, 40, 50]"
      ],
      "metadata": {
        "id": "ngPmdj5XUE0z"
      }
    },
    {
      "cell_type": "code",
      "source": [
        "list10 = [ 10, 20, 30, 40, 50]\n",
        "list10[::-1]\n"
      ],
      "metadata": {
        "colab": {
          "base_uri": "https://localhost:8080/"
        },
        "id": "U8gZTiZDUKrC",
        "outputId": "5d55fdcc-0169-4ee1-e7b6-7d310224d5e4"
      },
      "execution_count": 21,
      "outputs": [
        {
          "output_type": "execute_result",
          "data": {
            "text/plain": [
              "[50, 40, 30, 20, 10]"
            ]
          },
          "metadata": {},
          "execution_count": 21
        }
      ]
    },
    {
      "cell_type": "code",
      "source": [],
      "metadata": {
        "id": "Pcf0FfN2VeGa"
      },
      "execution_count": null,
      "outputs": []
    },
    {
      "cell_type": "markdown",
      "source": [
        "11.. Write a code to create a tuple with the elements 100, 200, 300 and print it."
      ],
      "metadata": {
        "id": "vYB7OHpBVfGT"
      }
    },
    {
      "cell_type": "code",
      "source": [
        "tuple11 = (100, 200, 300)\n",
        "print(tuple11)"
      ],
      "metadata": {
        "colab": {
          "base_uri": "https://localhost:8080/"
        },
        "id": "WQFtD1PqVf5T",
        "outputId": "924a00a7-d4e0-495c-b602-1c89ed104404"
      },
      "execution_count": 22,
      "outputs": [
        {
          "output_type": "stream",
          "name": "stdout",
          "text": [
            "(100, 200, 300)\n"
          ]
        }
      ]
    },
    {
      "cell_type": "code",
      "source": [
        "type(tuple11)"
      ],
      "metadata": {
        "colab": {
          "base_uri": "https://localhost:8080/"
        },
        "id": "F207IcHNV8bC",
        "outputId": "6b59e021-be04-4d1e-e65b-c543e330a9ce"
      },
      "execution_count": 23,
      "outputs": [
        {
          "output_type": "execute_result",
          "data": {
            "text/plain": [
              "tuple"
            ]
          },
          "metadata": {},
          "execution_count": 23
        }
      ]
    },
    {
      "cell_type": "markdown",
      "source": [
        "12. Write a code to access the second-to-last element of the tuple ('red', 'green', 'blue', 'yellow')."
      ],
      "metadata": {
        "id": "5N4mISeZVopS"
      }
    },
    {
      "cell_type": "code",
      "source": [
        "colours = ('red', 'green', 'blue', 'yellow')\n",
        "colours[-2]"
      ],
      "metadata": {
        "colab": {
          "base_uri": "https://localhost:8080/",
          "height": 36
        },
        "id": "Dqp_910MVg6q",
        "outputId": "bffc82a7-bf2b-40b7-8850-e0417aaff201"
      },
      "execution_count": 25,
      "outputs": [
        {
          "output_type": "execute_result",
          "data": {
            "text/plain": [
              "'blue'"
            ],
            "application/vnd.google.colaboratory.intrinsic+json": {
              "type": "string"
            }
          },
          "metadata": {},
          "execution_count": 25
        }
      ]
    },
    {
      "cell_type": "markdown",
      "source": [
        "13.  Write a code to find the minimum number in the tuple (10, 20, 5, 15)."
      ],
      "metadata": {
        "id": "vDDny9-7XKIj"
      }
    },
    {
      "cell_type": "code",
      "source": [
        "nums13 = (10, 20, 5, 15)\n",
        "min(nums13)"
      ],
      "metadata": {
        "colab": {
          "base_uri": "https://localhost:8080/"
        },
        "id": "mWH6RfM_X2rD",
        "outputId": "bfddce6d-e74b-4735-c19f-7e17cf4c0eec"
      },
      "execution_count": 27,
      "outputs": [
        {
          "output_type": "execute_result",
          "data": {
            "text/plain": [
              "5"
            ]
          },
          "metadata": {},
          "execution_count": 27
        }
      ]
    },
    {
      "cell_type": "markdown",
      "source": [
        "14.Write a code to find the index of the element \"cat\" in the tuple ('dog', 'cat', 'rabbit')."
      ],
      "metadata": {
        "id": "p3A8Bpc6YOnr"
      }
    },
    {
      "cell_type": "code",
      "source": [
        "animals14 = (\"dog\", \"cat\", \"rannit\")\n",
        "animals14.index(\"cat\")"
      ],
      "metadata": {
        "colab": {
          "base_uri": "https://localhost:8080/"
        },
        "id": "BI4-U8B4YSv7",
        "outputId": "1bfc60e3-4906-4846-f656-dfa034c25bc3"
      },
      "execution_count": 28,
      "outputs": [
        {
          "output_type": "execute_result",
          "data": {
            "text/plain": [
              "1"
            ]
          },
          "metadata": {},
          "execution_count": 28
        }
      ]
    },
    {
      "cell_type": "markdown",
      "source": [
        "15. . Write a code to create a tuple containing three different fruits and check if \"kiwi\" is in it"
      ],
      "metadata": {
        "id": "LpriNqZQY05b"
      }
    },
    {
      "cell_type": "code",
      "source": [
        "fruits = (\"apple\", \"banana\", \"kiwi\")\n",
        "if \"kiwi\" in fruits:\n",
        "  print(True)"
      ],
      "metadata": {
        "colab": {
          "base_uri": "https://localhost:8080/"
        },
        "id": "7yRgia27Y0C7",
        "outputId": "c60518df-d06f-4282-f867-a0662ff25260"
      },
      "execution_count": 29,
      "outputs": [
        {
          "output_type": "stream",
          "name": "stdout",
          "text": [
            "True\n"
          ]
        }
      ]
    },
    {
      "cell_type": "markdown",
      "source": [
        "16.  Write a code to create a set with the elements 'a', 'b', 'c' and print it"
      ],
      "metadata": {
        "id": "7l6Xmg-UZ0Bj"
      }
    },
    {
      "cell_type": "code",
      "source": [
        "my_set = {'a', 'b', 'c'}\n",
        "my_set\n"
      ],
      "metadata": {
        "colab": {
          "base_uri": "https://localhost:8080/"
        },
        "id": "37SpoDk3Zydj",
        "outputId": "885f5841-9ec7-4a76-a596-33442a40b445"
      },
      "execution_count": 30,
      "outputs": [
        {
          "output_type": "execute_result",
          "data": {
            "text/plain": [
              "{'a', 'b', 'c'}"
            ]
          },
          "metadata": {},
          "execution_count": 30
        }
      ]
    },
    {
      "cell_type": "markdown",
      "source": [
        "17.  Write a code to clear all elements from the set {1, 2, 3, 4, 5}"
      ],
      "metadata": {
        "id": "sdQPbclcaDcy"
      }
    },
    {
      "cell_type": "code",
      "source": [
        "s17 = {1, 2, 3, 4, 5}\n",
        "s17.clear()\n",
        "s17"
      ],
      "metadata": {
        "colab": {
          "base_uri": "https://localhost:8080/"
        },
        "id": "Hq6--TpPaBTK",
        "outputId": "c14a59df-4b2c-456e-be53-82185f2f3c11"
      },
      "execution_count": 33,
      "outputs": [
        {
          "output_type": "execute_result",
          "data": {
            "text/plain": [
              "set()"
            ]
          },
          "metadata": {},
          "execution_count": 33
        }
      ]
    },
    {
      "cell_type": "markdown",
      "source": [
        "18.  Write a code to remove the element 4 from the set {1, 2, 3, 4}"
      ],
      "metadata": {
        "id": "j2NM4L9YaOvL"
      }
    },
    {
      "cell_type": "code",
      "source": [
        "s18 = {1, 2, 3, 4}\n",
        "s18.remove(4)\n",
        "s18"
      ],
      "metadata": {
        "colab": {
          "base_uri": "https://localhost:8080/"
        },
        "id": "rIhBydtkaMba",
        "outputId": "f1fcd5f3-3e67-42bc-fbb5-7dfba78d0ac7"
      },
      "execution_count": 34,
      "outputs": [
        {
          "output_type": "execute_result",
          "data": {
            "text/plain": [
              "{1, 2, 3}"
            ]
          },
          "metadata": {},
          "execution_count": 34
        }
      ]
    },
    {
      "cell_type": "markdown",
      "source": [
        "19. 9. Write a code to find the union of two sets {1, 2, 3} and {3, 4, 5}"
      ],
      "metadata": {
        "id": "PS_T9AkBajBz"
      }
    },
    {
      "cell_type": "code",
      "source": [
        "set1 = {1, 2, 3}\n",
        "set2 = {3, 4, 5}\n",
        "set1 | set2"
      ],
      "metadata": {
        "colab": {
          "base_uri": "https://localhost:8080/"
        },
        "id": "mRTsTBTTanDs",
        "outputId": "10d053da-9c20-4fab-af5c-198f62e73fa9"
      },
      "execution_count": 35,
      "outputs": [
        {
          "output_type": "execute_result",
          "data": {
            "text/plain": [
              "{1, 2, 3, 4, 5}"
            ]
          },
          "metadata": {},
          "execution_count": 35
        }
      ]
    },
    {
      "cell_type": "markdown",
      "source": [
        "20.Write a code to find the intersection of two sets {1, 2, 3} and {2, 3, 4}"
      ],
      "metadata": {
        "id": "kkz9rxtcbIUz"
      }
    },
    {
      "cell_type": "code",
      "source": [
        "set11 = {1, 2, 3}\n",
        "set22 = {2, 3, 4}\n",
        "set11 & set22"
      ],
      "metadata": {
        "colab": {
          "base_uri": "https://localhost:8080/"
        },
        "id": "xU_sZJ5FbNnL",
        "outputId": "8190576d-78e8-4270-8069-aef81958c813"
      },
      "execution_count": 36,
      "outputs": [
        {
          "output_type": "execute_result",
          "data": {
            "text/plain": [
              "{2, 3}"
            ]
          },
          "metadata": {},
          "execution_count": 36
        }
      ]
    },
    {
      "cell_type": "markdown",
      "source": [
        "21. Write a code to create a dictionary with the keys \"name\", \"age\", and \"city\", and print it"
      ],
      "metadata": {
        "id": "K2Tk4z2ab3p7"
      }
    },
    {
      "cell_type": "code",
      "source": [
        "d21 = {\"name\": \"Azhadul\", \"age\": 22, \"city\": \"Hailakndi\"}\n",
        "d21"
      ],
      "metadata": {
        "colab": {
          "base_uri": "https://localhost:8080/"
        },
        "id": "EBnxNCjNb7nD",
        "outputId": "88b82b59-a8b9-477c-b738-490cd2b39737"
      },
      "execution_count": 37,
      "outputs": [
        {
          "output_type": "execute_result",
          "data": {
            "text/plain": [
              "{'name': 'Azhadul', 'age': 22, 'city': 'Hailakndi'}"
            ]
          },
          "metadata": {},
          "execution_count": 37
        }
      ]
    },
    {
      "cell_type": "markdown",
      "source": [
        "22.Write a code to add a new key-value pair \"country\": \"USA\" to the dictionary {'name': 'John', 'age': 25}."
      ],
      "metadata": {
        "id": "nE9EbLfscWsb"
      }
    },
    {
      "cell_type": "code",
      "source": [
        "d22 = {\"name\":\"john\", \"age\": 25}\n",
        "d22[\"country\"] = \"USA\"\n",
        "d22"
      ],
      "metadata": {
        "colab": {
          "base_uri": "https://localhost:8080/"
        },
        "id": "OkRCFlc7cc66",
        "outputId": "bb001212-8d4b-4ebc-ff82-37b5f7b35d56"
      },
      "execution_count": 39,
      "outputs": [
        {
          "output_type": "execute_result",
          "data": {
            "text/plain": [
              "{'name': 'john', 'age': 25, 'country': 'USA'}"
            ]
          },
          "metadata": {},
          "execution_count": 39
        }
      ]
    },
    {
      "cell_type": "markdown",
      "source": [
        "23.  Write a code to access the value associated with the key \"name\" in the dictionary {'name': 'Alice', 'age': 30}."
      ],
      "metadata": {
        "id": "CbG31wLadBdT"
      }
    },
    {
      "cell_type": "code",
      "source": [
        "d23 = {\"name\": \"Alice\", \"age\": 30}\n",
        "d23[\"name\"]"
      ],
      "metadata": {
        "colab": {
          "base_uri": "https://localhost:8080/",
          "height": 36
        },
        "id": "S1sAFWtUdI8s",
        "outputId": "efda4ac5-8c40-4e92-e6f8-448970bd4889"
      },
      "execution_count": 40,
      "outputs": [
        {
          "output_type": "execute_result",
          "data": {
            "text/plain": [
              "'Alice'"
            ],
            "application/vnd.google.colaboratory.intrinsic+json": {
              "type": "string"
            }
          },
          "metadata": {},
          "execution_count": 40
        }
      ]
    },
    {
      "cell_type": "markdown",
      "source": [
        "24.  Write a code to remove the key \"age\" from the dictionary {'name': 'Bob', 'age': 22, 'city': 'New York'}."
      ],
      "metadata": {
        "id": "qutKAeImdmkL"
      }
    },
    {
      "cell_type": "code",
      "source": [
        "d24 = {\"name\": \"Bob\", \"age\": 22, \"city\": \"New york\"}\n",
        "d24[\"age\"]"
      ],
      "metadata": {
        "colab": {
          "base_uri": "https://localhost:8080/"
        },
        "id": "wDy_klC7dqzj",
        "outputId": "9d12d393-2c8b-42e2-cad3-ae062189918e"
      },
      "execution_count": 42,
      "outputs": [
        {
          "output_type": "execute_result",
          "data": {
            "text/plain": [
              "22"
            ]
          },
          "metadata": {},
          "execution_count": 42
        }
      ]
    },
    {
      "cell_type": "markdown",
      "source": [
        "25. Write a code to check if the key \"city\" exists in the dictionary {'name': 'Alice', 'city': 'Paris'}."
      ],
      "metadata": {
        "id": "jyIlqmB_eLTj"
      }
    },
    {
      "cell_type": "code",
      "source": [
        "d25 = {\"name\": \"Alice\", \"city\": \"Pairs\"}\n",
        "if \"city\" in d25:\n",
        "  print(True)"
      ],
      "metadata": {
        "colab": {
          "base_uri": "https://localhost:8080/"
        },
        "id": "sQaV9qn6eQei",
        "outputId": "84e051b1-c480-4b38-89f8-3929648f2959"
      },
      "execution_count": 43,
      "outputs": [
        {
          "output_type": "stream",
          "name": "stdout",
          "text": [
            "True\n"
          ]
        }
      ]
    },
    {
      "cell_type": "markdown",
      "source": [
        "26. Write a code to create a list, a tuple, and a dictionary, and print them all."
      ],
      "metadata": {
        "id": "4nA79J1We7jr"
      }
    },
    {
      "cell_type": "code",
      "source": [
        "my_list = [1, 2, 3]\n",
        "my_tuple = (4, 5, 6)\n",
        "my_dict = {'a': 1, 'b': 2}\n",
        "my_list, my_tuple, my_dict"
      ],
      "metadata": {
        "colab": {
          "base_uri": "https://localhost:8080/"
        },
        "id": "tmAMtBzWfEbD",
        "outputId": "7533d8b9-3469-48ea-ef3d-b7b04d25a7c7"
      },
      "execution_count": 44,
      "outputs": [
        {
          "output_type": "execute_result",
          "data": {
            "text/plain": [
              "([1, 2, 3], (4, 5, 6), {'a': 1, 'b': 2})"
            ]
          },
          "metadata": {},
          "execution_count": 44
        }
      ]
    },
    {
      "cell_type": "markdown",
      "source": [
        "27.  Write a code to create a list of 5 random numbers between 1 and 100, sort it in ascending order, and print the  result.(replaced)"
      ],
      "metadata": {
        "id": "hBLTNqqKfiGD"
      }
    },
    {
      "cell_type": "code",
      "source": [
        "import random\n",
        "rand_list = random.sample(range(1, 101), 5)\n",
        "rand_list.sort()\n",
        "print(rand_list)"
      ],
      "metadata": {
        "colab": {
          "base_uri": "https://localhost:8080/"
        },
        "id": "dF_-PIx1fqaC",
        "outputId": "058e9a3c-a03e-4c02-cb64-6f6aced868fd"
      },
      "execution_count": 46,
      "outputs": [
        {
          "output_type": "stream",
          "name": "stdout",
          "text": [
            "[10, 12, 45, 61, 83]\n"
          ]
        }
      ]
    },
    {
      "cell_type": "markdown",
      "source": [
        "28. Write a code to create a list with strings and print the element at the third index"
      ],
      "metadata": {
        "id": "K9kFZflkhHQa"
      }
    },
    {
      "cell_type": "code",
      "source": [
        "str_list = [\"one\", \"two\", \"three\", \"four\", \"five\"]\n",
        "str_list[3]"
      ],
      "metadata": {
        "colab": {
          "base_uri": "https://localhost:8080/",
          "height": 36
        },
        "id": "uUfSW3S3hMB6",
        "outputId": "c2b698e1-b1f3-4a76-9833-b1bc08b44164"
      },
      "execution_count": 47,
      "outputs": [
        {
          "output_type": "execute_result",
          "data": {
            "text/plain": [
              "'four'"
            ],
            "application/vnd.google.colaboratory.intrinsic+json": {
              "type": "string"
            }
          },
          "metadata": {},
          "execution_count": 47
        }
      ]
    },
    {
      "cell_type": "markdown",
      "source": [
        "29.  Write a code to combine two dictionaries into one and print the result"
      ],
      "metadata": {
        "id": "78d5I5gohdjy"
      }
    },
    {
      "cell_type": "code",
      "source": [
        "d29 = {\"a\": 1, \"b\": 2}\n",
        "d30 = {\"c\": 3, \"d\": 4}\n",
        "d29 | d30"
      ],
      "metadata": {
        "colab": {
          "base_uri": "https://localhost:8080/"
        },
        "id": "LR_5B4gMhhzy",
        "outputId": "af5f7f35-6a34-44a9-e0e6-c95a45f93214"
      },
      "execution_count": 48,
      "outputs": [
        {
          "output_type": "execute_result",
          "data": {
            "text/plain": [
              "{'a': 1, 'b': 2, 'c': 3, 'd': 4}"
            ]
          },
          "metadata": {},
          "execution_count": 48
        }
      ]
    },
    {
      "cell_type": "markdown",
      "source": [
        "30. Write a code to convert a list of strings into a set"
      ],
      "metadata": {
        "id": "Km3p-9FBiYcC"
      }
    },
    {
      "cell_type": "code",
      "source": [
        "strs = [\"apple\", \"banana\", \"apple\", \"cherry\"]\n",
        "set(strs)"
      ],
      "metadata": {
        "colab": {
          "base_uri": "https://localhost:8080/"
        },
        "id": "sdhhFmatjGaS",
        "outputId": "d8e5369d-6ebc-47ff-eac4-c67b0fe87479"
      },
      "execution_count": 53,
      "outputs": [
        {
          "output_type": "execute_result",
          "data": {
            "text/plain": [
              "{'apple', 'banana', 'cherry'}"
            ]
          },
          "metadata": {},
          "execution_count": 53
        }
      ]
    }
  ]
}